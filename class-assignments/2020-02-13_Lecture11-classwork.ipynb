{
 "cells": [
  {
   "cell_type": "markdown",
   "metadata": {},
   "source": [
    "# Lecture 12 classwork\n",
    "February 13, 2020\\\n",
    "Whitney Tsai Nakashima"
   ]
  },
  {
   "cell_type": "markdown",
   "metadata": {},
   "source": [
    "## Flow control\n",
    "\n",
    "### Challenge\n",
    "Change the program below so that it reports the temperature in Fahrenheit or Celsius depending on user input."
   ]
  },
  {
   "cell_type": "code",
   "execution_count": 11,
   "metadata": {},
   "outputs": [
    {
     "name": "stdout",
     "output_type": "stream",
     "text": [
      "What is the temperature in Fahrenheit?75\n",
      "The temperature in Celsius is 23.88888888888889\n"
     ]
    }
   ],
   "source": [
    "xx = input('What is the temperature in Fahrenheit?')\n",
    "yy = (float(xx) - 32) * 5/9\n",
    "print('The temperature in Celsius is {}'.format(yy))"
   ]
  },
  {
   "cell_type": "code",
   "execution_count": 24,
   "metadata": {},
   "outputs": [
    {
     "name": "stdout",
     "output_type": "stream",
     "text": [
      "What is the temperature?100\n",
      "Is your temperature in (C) Celsius or (F) Fahrenheit?C\n",
      "The temperature in Fahrenheit is 212.0\n"
     ]
    }
   ],
   "source": [
    "xx = input('What is the temperature?')\n",
    "ww = input('Is your temperature in (C) Celsius or (F) Fahrenheit?')\n",
    "\n",
    "yy = (float(xx) - 32) * 5/9\n",
    "zz = (float(xx)* 9/5) + 32\n",
    "if ww.upper() == 'F':\n",
    "    print('The temperature in Celsius is {}'.format(yy))\n",
    "elif ww.upper() == 'C':\n",
    "    print('The temperature in Fahrenheit is {}'.format(zz))\n",
    "else:\n",
    "    print('Invalid option {}'.format(ww))\n",
    "    \n",
    "# control number of output decimals"
   ]
  },
  {
   "cell_type": "markdown",
   "metadata": {},
   "source": [
    "Important to think of all options (anticipate mistakes/problems) and have else statements that are informative for problem solving.\n",
    "\n",
    "Minimize number of steps to less than three. If not, do it better."
   ]
  },
  {
   "cell_type": "markdown",
   "metadata": {},
   "source": [
    "### Reading and writing files\n",
    "\n",
    "When using a file, you need to make sure you open file, do something with file, close file.\n"
   ]
  },
  {
   "cell_type": "markdown",
   "metadata": {},
   "source": [
    "```\n",
    "myDNA = 'acgttgggccaaaacgtgcagtc\\ngtaggaaaagctccctttcgggca'\n",
    "\n",
    "with open('dnaseq.txt', 'w') as wf:\n",
    "    # 'w' is read or write\n",
    "    # wf = writtable file\n",
    "    for line in myDNA:\n",
    "        wf.write(myDNA)\n",
    "        # file is automatically closed\n",
    "```"
   ]
  },
  {
   "cell_type": "code",
   "execution_count": 41,
   "metadata": {},
   "outputs": [],
   "source": [
    "myDNA = 'acgttgggccaaaacgtgcagtc\\ngtaggaaaagctccctttcgggca'\n",
    "with open('dnaseq.txt', 'w') as wf:\n",
    "    # will initiate a file in your working directory\n",
    "    # 'w' is write ('r' is read)\n",
    "    # wf = writtable file\n",
    "    for line in myDNA:\n",
    "        wf.write(line)\n",
    "        # file is automatically closed"
   ]
  },
  {
   "cell_type": "code",
   "execution_count": 42,
   "metadata": {},
   "outputs": [
    {
     "name": "stdout",
     "output_type": "stream",
     "text": [
      "acgttgggccaaaacgtgcagtc\n",
      "\n",
      "gtaggaaaagctccctttcgggca\n"
     ]
    }
   ],
   "source": [
    "with open('dnaseq.txt', 'r') as rf:\n",
    "    for line in rf:\n",
    "        print(line)"
   ]
  },
  {
   "cell_type": "code",
   "execution_count": 47,
   "metadata": {},
   "outputs": [],
   "source": [
    "### Reading files"
   ]
  },
  {
   "cell_type": "code",
   "execution_count": 45,
   "metadata": {},
   "outputs": [],
   "source": [
    "import os"
   ]
  },
  {
   "cell_type": "code",
   "execution_count": 55,
   "metadata": {},
   "outputs": [],
   "source": [
    "# change directory\n",
    "\n",
    "datapath = '/home/eebc177student/Developer/repos/CSB/python/data/'\n",
    "workingdir = '/home/eebc177student/Developer/repos/eeb-c177-homework/class-assignments/'\n",
    "os.chdir(datapath)\n",
    "\n",
    "os.chdir(workingdir)"
   ]
  },
  {
   "cell_type": "code",
   "execution_count": 56,
   "metadata": {},
   "outputs": [
    {
     "data": {
      "text/plain": [
       "'/home/eebc177student/Developer/repos/eeb-c177-homework/class-assignments'"
      ]
     },
     "execution_count": 56,
     "metadata": {},
     "output_type": "execute_result"
    }
   ],
   "source": []
  },
  {
   "cell_type": "code",
   "execution_count": 59,
   "metadata": {},
   "outputs": [],
   "source": [
    "os.chdir(workingdir)"
   ]
  },
  {
   "cell_type": "code",
   "execution_count": 60,
   "metadata": {},
   "outputs": [],
   "source": [
    "os.chdir(datapath)\n",
    "dd = []\n",
    "with open('Dalziel2016_data.csv', 'r') as ff:\n",
    "    for line in ff:\n",
    "        #print(line)\n",
    "        dd.append(line)"
   ]
  },
  {
   "cell_type": "code",
   "execution_count": 61,
   "metadata": {},
   "outputs": [],
   "source": [
    "os.chdir(workingdir)"
   ]
  },
  {
   "cell_type": "code",
   "execution_count": null,
   "metadata": {},
   "outputs": [],
   "source": []
  },
  {
   "cell_type": "code",
   "execution_count": null,
   "metadata": {},
   "outputs": [],
   "source": []
  }
 ],
 "metadata": {
  "kernelspec": {
   "display_name": "Python 3",
   "language": "python",
   "name": "python3"
  },
  "language_info": {
   "codemirror_mode": {
    "name": "ipython",
    "version": 3
   },
   "file_extension": ".py",
   "mimetype": "text/x-python",
   "name": "python",
   "nbconvert_exporter": "python",
   "pygments_lexer": "ipython3",
   "version": "3.7.5"
  }
 },
 "nbformat": 4,
 "nbformat_minor": 2
}
