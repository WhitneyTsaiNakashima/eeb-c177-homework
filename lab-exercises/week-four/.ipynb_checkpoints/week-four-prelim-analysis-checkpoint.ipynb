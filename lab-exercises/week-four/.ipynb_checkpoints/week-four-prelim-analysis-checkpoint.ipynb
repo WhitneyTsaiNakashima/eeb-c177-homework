{
 "cells": [
  {
   "cell_type": "markdown",
   "metadata": {},
   "source": [
    "# Week Four HW Part 1: preliminary analyses\n",
    "Whitney Tsai Nakashima"
   ]
  },
  {
   "cell_type": "code",
   "execution_count": 6,
   "metadata": {},
   "outputs": [],
   "source": [
    "import numpy as np"
   ]
  },
  {
   "cell_type": "code",
   "execution_count": 7,
   "metadata": {},
   "outputs": [],
   "source": [
    "import pandas as pd"
   ]
  },
  {
   "cell_type": "code",
   "execution_count": null,
   "metadata": {},
   "outputs": [],
   "source": [
    "tmp_data = "
   ]
  },
  {
   "cell_type": "code",
   "execution_count": 20,
   "metadata": {},
   "outputs": [],
   "source": [
    "color_data = np.loadtxt(fname='Tangara-color-illustrations.csv', delimiter=',', skiprows=1, usecols=np.arange(4,17))\n",
    "\n",
    "# color data for tanager illustrations\n",
    "# each column is an illustration of a bird species\n",
    "# column 1 (index 0) is the average number of colors on that bird\n",
    "# all other columns are presence (1)/ absence (0), of a particular color\n",
    "# order of colors: Red,Orange,Yellow,Green,Blue,Indigo,Violet,Gray,Black,Brown,White,Buff"
   ]
  },
  {
   "cell_type": "code",
   "execution_count": 21,
   "metadata": {},
   "outputs": [
    {
     "name": "stdout",
     "output_type": "stream",
     "text": [
      "[[5. 0. 0. ... 0. 0. 1.]\n",
      " [4. 0. 0. ... 0. 0. 1.]\n",
      " [4. 0. 0. ... 0. 0. 1.]\n",
      " ...\n",
      " [3. 0. 0. ... 0. 1. 1.]\n",
      " [5. 0. 0. ... 0. 0. 1.]\n",
      " [4. 0. 0. ... 0. 0. 1.]]\n"
     ]
    }
   ],
   "source": [
    "print(color_data)"
   ]
  },
  {
   "cell_type": "code",
   "execution_count": 22,
   "metadata": {},
   "outputs": [
    {
     "name": "stdout",
     "output_type": "stream",
     "text": [
      "float64\n"
     ]
    }
   ],
   "source": [
    "print(color_data.dtype)"
   ]
  },
  {
   "cell_type": "code",
   "execution_count": 23,
   "metadata": {},
   "outputs": [
    {
     "name": "stdout",
     "output_type": "stream",
     "text": [
      "(82, 13)\n"
     ]
    }
   ],
   "source": [
    "print(color_data.shape)"
   ]
  },
  {
   "cell_type": "code",
   "execution_count": 25,
   "metadata": {},
   "outputs": [],
   "source": [
    "?np.mean"
   ]
  },
  {
   "cell_type": "code",
   "execution_count": 31,
   "metadata": {},
   "outputs": [],
   "source": [
    "total_colors = color_data[:,0]\n",
    "# select column 1 (index 0), total number of colors on a bird"
   ]
  },
  {
   "cell_type": "code",
   "execution_count": 33,
   "metadata": {},
   "outputs": [
    {
     "name": "stdout",
     "output_type": "stream",
     "text": [
      "[5. 4. 4. 5. 3. 3. 3. 2. 4. 5. 3. 4. 5. 5. 4. 5. 7. 5. 7. 5. 4. 6. 3. 6.\n",
      " 6. 6. 4. 4. 5. 5. 3. 3. 5. 6. 4. 4. 5. 5. 4. 4. 4. 6. 6. 4. 4. 6. 3. 5.\n",
      " 5. 5. 4. 4. 4. 6. 5. 5. 3. 4. 4. 7. 4. 6. 6. 4. 3. 4. 5. 5. 6. 2. 3. 2.\n",
      " 5. 5. 6. 4. 3. 5. 4. 3. 5. 4.]\n"
     ]
    }
   ],
   "source": [
    "print(total_colors)"
   ]
  },
  {
   "cell_type": "code",
   "execution_count": 34,
   "metadata": {},
   "outputs": [
    {
     "name": "stdout",
     "output_type": "stream",
     "text": [
      "Mean number of colors on a tanager illustration: 4.487804878048781\n"
     ]
    }
   ],
   "source": [
    "mean_total_colors = np.mean(total_colors)\n",
    "print('Mean number of colors on a tanager illustration:', mean_total_colors)"
   ]
  },
  {
   "cell_type": "code",
   "execution_count": 36,
   "metadata": {},
   "outputs": [
    {
     "name": "stdout",
     "output_type": "stream",
     "text": [
      "[0. 0. 1. 0. 1. 0. 0. 1. 1. 0. 0. 1.]\n"
     ]
    }
   ],
   "source": [
    "Tangara_abbas = color_data[0, 1:]\n",
    "# select row 1 (index 0), Tangara abbas data\n",
    "print(Tangara_abbas)"
   ]
  },
  {
   "cell_type": "code",
   "execution_count": 38,
   "metadata": {},
   "outputs": [
    {
     "name": "stdout",
     "output_type": "stream",
     "text": [
      "Number of colors present on Tangara abbas illustration: 5.0\n"
     ]
    }
   ],
   "source": [
    "Tangara_abbas_num_colors = np.sum(Tangara_abbas)\n",
    "print('Number of colors present on Tangara abbas illustration:', Tangara_abbas_num_colors)"
   ]
  },
  {
   "cell_type": "code",
   "execution_count": null,
   "metadata": {},
   "outputs": [],
   "source": []
  }
 ],
 "metadata": {
  "kernelspec": {
   "display_name": "Python 3",
   "language": "python",
   "name": "python3"
  },
  "language_info": {
   "codemirror_mode": {
    "name": "ipython",
    "version": 3
   },
   "file_extension": ".py",
   "mimetype": "text/x-python",
   "name": "python",
   "nbconvert_exporter": "python",
   "pygments_lexer": "ipython3",
   "version": "3.7.5"
  }
 },
 "nbformat": 4,
 "nbformat_minor": 2
}
