{
 "cells": [
  {
   "cell_type": "markdown",
   "metadata": {},
   "source": [
    "# Week 4 HW Part 2\n",
    "Whitney Tsai Nakashima"
   ]
  },
  {
   "cell_type": "markdown",
   "metadata": {},
   "source": [
    "## Slicing strings\n",
    "\n",
    "A section of an array is called a slice. We can take slices of character strings as well:"
   ]
  },
  {
   "cell_type": "code",
   "execution_count": 4,
   "metadata": {},
   "outputs": [
    {
     "name": "stdout",
     "output_type": "stream",
     "text": [
      "first three characters: oxy\n",
      "last three characters: gen\n"
     ]
    },
    {
     "data": {
      "text/plain": [
       "'oxyg'"
      ]
     },
     "execution_count": 4,
     "metadata": {},
     "output_type": "execute_result"
    }
   ],
   "source": [
    "element = 'oxygen'\n",
    "print('first three characters:', element[0:3])\n",
    "print('last three characters:', element[3:6])"
   ]
  },
  {
   "cell_type": "markdown",
   "metadata": {},
   "source": [
    "### Question 1\n",
    "\n",
    "What are the values of:"
   ]
  },
  {
   "cell_type": "code",
   "execution_count": 10,
   "metadata": {},
   "outputs": [
    {
     "name": "stdout",
     "output_type": "stream",
     "text": [
      "The first four characters: oxyg\n",
      "The last two characters (5th character on): en\n",
      "All characters: oxygen\n"
     ]
    }
   ],
   "source": [
    "print('The first four characters:', element[:4])\n",
    "print('The last two characters (5th character on):',element[4:])\n",
    "print('All characters:', element[:])"
   ]
  },
  {
   "cell_type": "markdown",
   "metadata": {},
   "source": [
    "### Question 2\n",
    "\n",
    "What about the values of:"
   ]
  },
  {
   "cell_type": "code",
   "execution_count": 12,
   "metadata": {},
   "outputs": [
    {
     "name": "stdout",
     "output_type": "stream",
     "text": [
      "The last character: n\n",
      "The second to last character: e\n"
     ]
    }
   ],
   "source": [
    "print('The last character:', element[-1])\n",
    "print('The second to last character:', element[-2])"
   ]
  },
  {
   "cell_type": "markdown",
   "metadata": {},
   "source": [
    "### Question 3\n",
    "\n",
    "Given these answers, explain what element[1:-1] does.\n",
    "\n",
    "It should print 'xyge' because it is printing index 1 (x) to index -1 (n) without including the last indexed letter."
   ]
  },
  {
   "cell_type": "code",
   "execution_count": 14,
   "metadata": {},
   "outputs": [
    {
     "name": "stdout",
     "output_type": "stream",
     "text": [
      "The second character up to (put not including) the last character: xyge\n"
     ]
    }
   ],
   "source": [
    "print('The second character up to (put not including) the last character:', element[1:-1])"
   ]
  },
  {
   "cell_type": "markdown",
   "metadata": {},
   "source": [
    "### Question 4\n",
    "\n",
    "The expression element[3:3] produces an empty string, i.e., a string that contains no characters. \n",
    "\n",
    "If data holds our array of patient data, what does data[3:3, 4:4] produce? \n",
    "\n",
    "An empty array.\n",
    "\n",
    "\n",
    "What about data[3:3, :]?\n",
    "\n",
    "Another empty array."
   ]
  },
  {
   "cell_type": "markdown",
   "metadata": {},
   "source": [
    "## Stacking Arrays\n",
    "\n",
    "Arrays can be concatenated and stacked on top of one another, using NumPy’s vstack and hstack functions for vertical and horizontal stacking, respectively."
   ]
  },
  {
   "cell_type": "code",
   "execution_count": 15,
   "metadata": {},
   "outputs": [],
   "source": [
    "import numpy as np"
   ]
  },
  {
   "cell_type": "code",
   "execution_count": 17,
   "metadata": {},
   "outputs": [
    {
     "name": "stdout",
     "output_type": "stream",
     "text": [
      "A = \n",
      "[[1 2 3]\n",
      " [4 5 6]\n",
      " [7 8 9]]\n",
      "B = \n",
      "[[1 2 3 1 2 3]\n",
      " [4 5 6 4 5 6]\n",
      " [7 8 9 7 8 9]]\n",
      "C = \n",
      "[[1 2 3]\n",
      " [4 5 6]\n",
      " [7 8 9]\n",
      " [1 2 3]\n",
      " [4 5 6]\n",
      " [7 8 9]]\n"
     ]
    }
   ],
   "source": [
    "A = np.array([[1,2,3], [4,5,6], [7,8,9]])\n",
    "print('A = ')\n",
    "print(A)\n",
    "\n",
    "B = np.hstack([A,A])\n",
    "print('B = ')\n",
    "print(B)\n",
    "\n",
    "C = np.vstack([A,A])\n",
    "print('C = ')\n",
    "print(C)"
   ]
  },
  {
   "cell_type": "markdown",
   "metadata": {},
   "source": [
    "### Question 1\n",
    "\n",
    "Write some additional code that slices the first and last columns of A, and stacks them into a 3x2 array. Make sure to print the results to verify your solution."
   ]
  },
  {
   "cell_type": "code",
   "execution_count": 33,
   "metadata": {},
   "outputs": [
    {
     "name": "stdout",
     "output_type": "stream",
     "text": [
      "A first column = \n",
      "[[1]\n",
      " [4]\n",
      " [7]]\n",
      "A last column =\n",
      "[[3]\n",
      " [6]\n",
      " [9]]\n",
      "A matrix 3x2 = \n",
      "[[1 3]\n",
      " [4 6]\n",
      " [7 9]]\n"
     ]
    }
   ],
   "source": [
    "A_first = np.vstack(A[:,0])\n",
    "print('A first column = ')\n",
    "print(A_first)\n",
    "A_last = np.vstack(A[:,-1])\n",
    "print('A last column =')\n",
    "print(A_last)\n",
    "A_mat3x2 = np.hstack([A_first, A_last])\n",
    "\n",
    "print('A matrix 3x2 = ')\n",
    "print(A_mat3x2)"
   ]
  },
  {
   "cell_type": "markdown",
   "metadata": {},
   "source": [
    "## Change In Inflammation\n",
    "\n",
    "This patient data is longitudinal in the sense that each row represents a series of observations relating to one individual. This means that the change in inflammation over time is a meaningful concept.\n",
    "\n",
    "The numpy.diff() function takes a NumPy array and returns the differences between two successive values along a specified axis. For example, a NumPy array that looks like this:"
   ]
  },
  {
   "cell_type": "code",
   "execution_count": 34,
   "metadata": {},
   "outputs": [],
   "source": [
    "npdiff = np.array([0,2,5,9,14])"
   ]
  },
  {
   "cell_type": "code",
   "execution_count": 35,
   "metadata": {},
   "outputs": [
    {
     "data": {
      "text/plain": [
       "array([2, 3, 4, 5])"
      ]
     },
     "execution_count": 35,
     "metadata": {},
     "output_type": "execute_result"
    }
   ],
   "source": [
    "np.diff(npdiff)"
   ]
  },
  {
   "cell_type": "markdown",
   "metadata": {},
   "source": [
    "### Question 1: Which axis would it make sense to use this function along?\n",
    "\n",
    "It would make the most sense to use this function along axis = 1, because this would compare differences in inflammation over time for one individual.\n",
    "\n",
    "### Question 2: If the shape of an individual data file is (60, 40) (60 rows and 40 columns), what would the shape of the array be after you run the diff() function and why?\n",
    "\n",
    "The shape of the array with be (60,39) because the shape of the array is reduced by one column.\n",
    "\n",
    "### Question 3: How would you find the largest change in inflammation for each patient? Does it matter if the change in inflammation is an increase or a decrease?\n",
    "\n",
    "I would find the difference between each successive value for each patient. It does matter if there is an increase or decrease in inflammation when trying to calculate the largest change. Therefore, I would take the absolute value of each of the differences to account so that I could return the largest change regardless of direction."
   ]
  },
  {
   "cell_type": "code",
   "execution_count": 45,
   "metadata": {},
   "outputs": [
    {
     "data": {
      "text/plain": [
       "(54, 40)"
      ]
     },
     "execution_count": 45,
     "metadata": {},
     "output_type": "execute_result"
    }
   ],
   "source": [
    "data = np.loadtxt(\"inflammation-01.csv\",delimiter = \",\")\n",
    "np.shape(data)"
   ]
  },
  {
   "cell_type": "code",
   "execution_count": 58,
   "metadata": {},
   "outputs": [
    {
     "name": "stdout",
     "output_type": "stream",
     "text": [
      "Largest change in inflammation for each patient:\n",
      "[12. 14. 11. 12. 14. 11. 12. 14. 11. 12. 14. 11. 12. 14. 11. 12. 14. 11.\n",
      " 12. 14. 11. 12. 14. 11. 12. 14. 11. 12. 14. 11. 12. 14. 11. 12. 14. 11.\n",
      " 12. 14. 11. 12. 14. 11. 12. 14. 11. 12. 14. 11. 12. 14. 11. 12. 14. 11.]\n"
     ]
    }
   ],
   "source": [
    "data_diff = np.diff(data)\n",
    "# change in inflammation \n",
    "data_diff_abs = np.abs(data_diff)\n",
    "# change in inflammation regardless of increase or decrease\n",
    "pat_inflam = np.max(data_diff_abs, axis = 1)\n",
    "# max change in inflammation for each patient\n",
    "print('Largest change in inflammation for each patient:')\n",
    "print(pat_inflam)"
   ]
  }
 ],
 "metadata": {
  "kernelspec": {
   "display_name": "Python 3",
   "language": "python",
   "name": "python3"
  },
  "language_info": {
   "codemirror_mode": {
    "name": "ipython",
    "version": 3
   },
   "file_extension": ".py",
   "mimetype": "text/x-python",
   "name": "python",
   "nbconvert_exporter": "python",
   "pygments_lexer": "ipython3",
   "version": "3.7.5"
  }
 },
 "nbformat": 4,
 "nbformat_minor": 2
}
