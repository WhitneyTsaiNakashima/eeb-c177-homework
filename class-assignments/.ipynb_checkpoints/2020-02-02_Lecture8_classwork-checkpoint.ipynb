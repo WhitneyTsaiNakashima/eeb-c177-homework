{
 "cells": [
  {
   "cell_type": "markdown",
   "metadata": {},
   "source": [
    "# Lecture 8 Classwork\n",
    "February 4, 2020\n",
    "\n",
    "Whitney Tsai Nakashima"
   ]
  },
  {
   "cell_type": "markdown",
   "metadata": {},
   "source": [
    "## Dictionaries"
   ]
  },
  {
   "cell_type": "code",
   "execution_count": 1,
   "metadata": {},
   "outputs": [],
   "source": [
    "# have a default value for keys that weren't supplied a value\n",
    "from collections import defaultdict"
   ]
  },
  {
   "cell_type": "code",
   "execution_count": 2,
   "metadata": {},
   "outputs": [],
   "source": [
    "ice_cream = defaultdict(lambda: 'Vanilla')\n",
    "# store ice_cream dictionary, with a default value\n",
    "# lambda - specify actual value"
   ]
  },
  {
   "cell_type": "code",
   "execution_count": 3,
   "metadata": {},
   "outputs": [
    {
     "name": "stdout",
     "output_type": "stream",
     "text": [
      "defaultdict(<function <lambda> at 0x7f3a241f2290>, {})\n"
     ]
    }
   ],
   "source": [
    "print(ice_cream)\n",
    "# prints an empty dictionary called ice_cream"
   ]
  },
  {
   "cell_type": "code",
   "execution_count": 4,
   "metadata": {},
   "outputs": [],
   "source": [
    "ice_cream['Sarah'] = 'Chunky Monkey'"
   ]
  },
  {
   "cell_type": "code",
   "execution_count": 5,
   "metadata": {},
   "outputs": [
    {
     "name": "stdout",
     "output_type": "stream",
     "text": [
      "defaultdict(<function <lambda> at 0x7f3a241f2290>, {'Sarah': 'Chunky Monkey'})\n"
     ]
    }
   ],
   "source": [
    "print(ice_cream)"
   ]
  },
  {
   "cell_type": "code",
   "execution_count": 6,
   "metadata": {},
   "outputs": [
    {
     "name": "stdout",
     "output_type": "stream",
     "text": [
      "Chunky Monkey\n"
     ]
    }
   ],
   "source": [
    "print(ice_cream['Sarah'])"
   ]
  },
  {
   "cell_type": "code",
   "execution_count": 7,
   "metadata": {},
   "outputs": [
    {
     "name": "stdout",
     "output_type": "stream",
     "text": [
      "Vanilla\n"
     ]
    }
   ],
   "source": [
    "print(ice_cream['Joe'])\n",
    "# prints the default"
   ]
  },
  {
   "cell_type": "code",
   "execution_count": 9,
   "metadata": {},
   "outputs": [
    {
     "name": "stdout",
     "output_type": "stream",
     "text": [
      "Peanut Butter\n"
     ]
    }
   ],
   "source": [
    "ice_cream['Joe'] = 'Peanut Butter'\n",
    "print(ice_cream['Joe'])"
   ]
  },
  {
   "cell_type": "code",
   "execution_count": 11,
   "metadata": {},
   "outputs": [
    {
     "name": "stdout",
     "output_type": "stream",
     "text": [
      "['pasta', 'pizza', 'bread', 'bread', 'pizza', 'tacos', 'coffee', 'burgers', 'burger', 'burger', 'tacos', 'burgers', 'taco', 'pasta', 'pasta', 'cheese']\n"
     ]
    }
   ],
   "source": [
    "# turn a string into a list that can quickly be counted\n",
    "food_list = 'pasta pizza bread bread pizza tacos coffee burgers burger burger tacos burgers taco pasta pasta cheese'. split()\n",
    "print(food_list)"
   ]
  },
  {
   "cell_type": "code",
   "execution_count": 22,
   "metadata": {},
   "outputs": [
    {
     "name": "stdout",
     "output_type": "stream",
     "text": [
      "defaultdict(<class 'int'>, {})\n"
     ]
    }
   ],
   "source": [
    "food_counts = defaultdict(int)\n",
    "# default integer value - will be zero if no occurences\n",
    "print(food_counts)"
   ]
  },
  {
   "cell_type": "code",
   "execution_count": 23,
   "metadata": {},
   "outputs": [
    {
     "name": "stdout",
     "output_type": "stream",
     "text": [
      "defaultdict(<class 'int'>, {'pasta': 3, 'pizza': 2, 'bread': 2, 'tacos': 2, 'coffee': 1, 'burgers': 2, 'burger': 2, 'taco': 1, 'cheese': 1})\n"
     ]
    }
   ],
   "source": [
    "for food in food_list:\n",
    "    # food_counts[food] = food_count[food] + 1 # long\n",
    "    food_counts[food] += 1 # same thing, but shorter\n",
    "print(food_counts)"
   ]
  },
  {
   "cell_type": "code",
   "execution_count": 29,
   "metadata": {},
   "outputs": [
    {
     "name": "stdout",
     "output_type": "stream",
     "text": [
      "2\n"
     ]
    }
   ],
   "source": [
    "print(food_counts['pizza'])"
   ]
  },
  {
   "cell_type": "code",
   "execution_count": 26,
   "metadata": {},
   "outputs": [
    {
     "name": "stdout",
     "output_type": "stream",
     "text": [
      "0\n"
     ]
    }
   ],
   "source": [
    "print(food_counts['steak'])\n",
    "# we didn't add steak, so default 0 comes up.\n",
    "# if using regular dictionary, this would give you an error message"
   ]
  },
  {
   "cell_type": "code",
   "execution_count": 27,
   "metadata": {},
   "outputs": [
    {
     "name": "stdout",
     "output_type": "stream",
     "text": [
      "defaultdict(<class 'int'>, {'pasta': 3, 'pizza': 2, 'bread': 2, 'tacos': 2, 'coffee': 1, 'burgers': 2, 'burger': 2, 'taco': 1, 'cheese': 1, 'steak': 0})\n"
     ]
    }
   ],
   "source": [
    "print(food_counts)"
   ]
  },
  {
   "cell_type": "code",
   "execution_count": 30,
   "metadata": {},
   "outputs": [],
   "source": [
    "food_counts['eggs']=2"
   ]
  },
  {
   "cell_type": "code",
   "execution_count": 32,
   "metadata": {},
   "outputs": [
    {
     "name": "stdout",
     "output_type": "stream",
     "text": [
      "defaultdict(<class 'int'>, {'pasta': 3, 'pizza': 2, 'bread': 2, 'tacos': 2, 'coffee': 1, 'burgers': 2, 'burger': 2, 'taco': 1, 'cheese': 1, 'steak': 0, 'eggs': 2})\n"
     ]
    }
   ],
   "source": [
    "print(food_counts)"
   ]
  },
  {
   "cell_type": "code",
   "execution_count": 34,
   "metadata": {},
   "outputs": [
    {
     "name": "stdout",
     "output_type": "stream",
     "text": [
      "[('TX', 'Austin'), ('TX', 'Houston'), ('NY', 'Albany'), ('NY', 'Syracuse'), ('NY', 'Buffalo'), ('NY', 'Rochester'), ('TX', 'Dallas'), ('CA', 'Sacramento'), ('CA', 'Palo Alto'), ('GA', 'Atlanta')]\n"
     ]
    }
   ],
   "source": [
    "city_list = [('TX','Austin'), ('TX','Houston'), ('NY','Albany'), ('NY', 'Syracuse'), ('NY', 'Buffalo'), ('NY', 'Rochester'), ('TX', 'Dallas'), ('CA','Sacramento'), ('CA', 'Palo Alto'), ('GA', 'Atlanta')]\n",
    "print(city_list)"
   ]
  },
  {
   "cell_type": "code",
   "execution_count": 36,
   "metadata": {},
   "outputs": [
    {
     "name": "stdout",
     "output_type": "stream",
     "text": [
      "defaultdict(<class 'list'>, {})\n"
     ]
    }
   ],
   "source": [
    "cities_by_state = defaultdict(list)\n",
    "    # store a list for each value\n",
    "print(cities_by_state)"
   ]
  },
  {
   "cell_type": "code",
   "execution_count": 37,
   "metadata": {},
   "outputs": [],
   "source": [
    "#for state in city_list:\n",
    "    #cities_by_state[state] = city_list.append\n",
    "    \n",
    "for state, city in city_list:\n",
    "    cities_by_state[state].append(city)"
   ]
  },
  {
   "cell_type": "code",
   "execution_count": 38,
   "metadata": {},
   "outputs": [
    {
     "name": "stdout",
     "output_type": "stream",
     "text": [
      "defaultdict(<class 'list'>, {'TX': ['Austin', 'Houston', 'Dallas'], 'NY': ['Albany', 'Syracuse', 'Buffalo', 'Rochester'], 'CA': ['Sacramento', 'Palo Alto'], 'GA': ['Atlanta']})\n"
     ]
    }
   ],
   "source": [
    "print(cities_by_state)"
   ]
  },
  {
   "cell_type": "code",
   "execution_count": 43,
   "metadata": {},
   "outputs": [
    {
     "name": "stdout",
     "output_type": "stream",
     "text": [
      "TX : Austin,Houston,Dallas\n",
      "NY : Albany,Syracuse,Buffalo,Rochester\n",
      "CA : Sacramento,Palo Alto\n",
      "GA : Atlanta\n"
     ]
    }
   ],
   "source": [
    "# print(cities_by_state.items())\n",
    "\n",
    "for state,cities in cities_by_state.items():\n",
    "    print(state, ':', ','.join(cities))\n"
   ]
  },
  {
   "cell_type": "code",
   "execution_count": null,
   "metadata": {},
   "outputs": [],
   "source": []
  }
 ],
 "metadata": {
  "kernelspec": {
   "display_name": "Python 3",
   "language": "python",
   "name": "python3"
  },
  "language_info": {
   "codemirror_mode": {
    "name": "ipython",
    "version": 3
   },
   "file_extension": ".py",
   "mimetype": "text/x-python",
   "name": "python",
   "nbconvert_exporter": "python",
   "pygments_lexer": "ipython3",
   "version": "3.7.5"
  }
 },
 "nbformat": 4,
 "nbformat_minor": 2
}
