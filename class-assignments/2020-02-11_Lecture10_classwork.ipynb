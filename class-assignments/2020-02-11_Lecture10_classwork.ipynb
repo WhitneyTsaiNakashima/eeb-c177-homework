{
 "cells": [
  {
   "cell_type": "markdown",
   "metadata": {},
   "source": [
    "# Lecture 10 classwork\n",
    "Whitney Tsai Nakashima\\\n",
    "February 11, 2020"
   ]
  },
  {
   "cell_type": "code",
   "execution_count": 3,
   "metadata": {},
   "outputs": [
    {
     "name": "stdout",
     "output_type": "stream",
     "text": [
      "['THIS', 'IS', 'MY']\n"
     ]
    }
   ],
   "source": [
    "words = ['this', 'is', 'my']\n",
    "bigwords = []\n",
    "for word in words:\n",
    "    bigwords.append(word.upper())\n",
    "print(bigwords)"
   ]
  },
  {
   "cell_type": "code",
   "execution_count": 4,
   "metadata": {},
   "outputs": [
    {
     "name": "stdout",
     "output_type": "stream",
     "text": [
      "O\n",
      "m\n",
      "e\n",
      "r\n"
     ]
    }
   ],
   "source": [
    "name = 'Omer'\n",
    "for char in name:\n",
    "    print(char)"
   ]
  },
  {
   "cell_type": "code",
   "execution_count": 17,
   "metadata": {},
   "outputs": [
    {
     "name": "stdout",
     "output_type": "stream",
     "text": [
      "1 is odd\n",
      "2 is even\n",
      "3 is odd\n",
      "4 is even\n",
      "5 is odd\n"
     ]
    }
   ],
   "source": [
    "my_dict = {'a': 1, 'b': 2, 'c': 3, 'd': 4, 'e': 5}\n",
    "for value in my_dict.values():\n",
    "    if value % 2 == 1:\n",
    "        print(value, 'is odd')\n",
    "    if value % 2 == 0:\n",
    "        print(value, 'is even')"
   ]
  },
  {
   "cell_type": "code",
   "execution_count": 21,
   "metadata": {},
   "outputs": [
    {
     "name": "stdout",
     "output_type": "stream",
     "text": [
      "a : 1 is odd\n",
      "b : 2 is even\n",
      "c : 3 is odd\n",
      "d : 4 is even\n",
      "e : 5 is odd\n"
     ]
    }
   ],
   "source": [
    "for key, value in my_dict.items():\n",
    "    if value % 2 == 1:\n",
    "        print(key, ':', value, 'is odd')\n",
    "    if value % 2 == 0:\n",
    "        print(key, ':', value, 'is even')"
   ]
  },
  {
   "cell_type": "code",
   "execution_count": 29,
   "metadata": {},
   "outputs": [
    {
     "name": "stdout",
     "output_type": "stream",
     "text": [
      "The value at key a is 1\n",
      "a 1 is odd\n",
      "The value at key b is 2\n",
      "b 2 is even\n",
      "The value at key c is 3\n",
      "c 3 is odd\n",
      "The value at key d is 4\n",
      "d 4 is even\n",
      "The value at key e is 5\n",
      "e 5 is odd\n"
     ]
    }
   ],
   "source": [
    "for key in my_dict.keys():\n",
    "    # print(key, my_dict[key])\n",
    "    if my_dict[key] % 2 == 1:\n",
    "        print(key, my_dict[key], 'is odd')\n",
    "    elif my_dict[key] % 2 == 0:\n",
    "        print(key, my_dict[key], 'is even')"
   ]
  },
  {
   "cell_type": "code",
   "execution_count": 31,
   "metadata": {},
   "outputs": [
    {
     "name": "stdout",
     "output_type": "stream",
     "text": [
      "The value at key a is 1\n",
      "1 is odd\n",
      "The value at key b is 2\n",
      "2 is even\n",
      "The value at key c is 3\n",
      "3 is odd\n",
      "The value at key d is 4\n",
      "4 is even\n",
      "The value at key e is 5\n",
      "5 is odd\n"
     ]
    }
   ],
   "source": [
    "for key in my_dict.keys():\n",
    "    # print(key, my_dict[key])\n",
    "    print('The value at key {} is {}'.format(key, my_dict[key]))\n",
    "    if my_dict[key] % 2 == 1:\n",
    "        print('{} is odd'.format(my_dict[key]))\n",
    "    elif my_dict[key] % 2 == 0:\n",
    "        print('{} is even'.format(my_dict[key]))"
   ]
  },
  {
   "cell_type": "markdown",
   "metadata": {},
   "source": [
    "Range can be useful if you want to do something more restricted or complicated than going from 0 to n."
   ]
  },
  {
   "cell_type": "markdown",
   "metadata": {},
   "source": [
    "## While loops\n",
    "While loop runs until some condition is met"
   ]
  },
  {
   "cell_type": "code",
   "execution_count": 33,
   "metadata": {},
   "outputs": [
    {
     "name": "stdout",
     "output_type": "stream",
     "text": [
      "0\n",
      "1\n",
      "2\n",
      "3\n",
      "4\n",
      "5\n",
      "6\n",
      "7\n",
      "8\n",
      "9\n"
     ]
    }
   ],
   "source": [
    "count = 0\n",
    "while count < 10:\n",
    "    print(count)\n",
    "    count += 1"
   ]
  },
  {
   "cell_type": "code",
   "execution_count": 34,
   "metadata": {},
   "outputs": [],
   "source": [
    "#check = True\n",
    "#while check:\n",
    " #   print(count)\n",
    "  #  count += 1\n",
    "# creates infinite loop"
   ]
  },
  {
   "cell_type": "markdown",
   "metadata": {},
   "source": [
    "## Conditionals\n"
   ]
  },
  {
   "cell_type": "code",
   "execution_count": 37,
   "metadata": {},
   "outputs": [
    {
     "name": "stdout",
     "output_type": "stream",
     "text": [
      "False\n",
      "False\n",
      "True\n"
     ]
    }
   ],
   "source": [
    "print(3 == 5)\n",
    "print(len('ATGC') > 5)\n",
    "print('GAATTC'.count('T') > 1)"
   ]
  },
  {
   "cell_type": "code",
   "execution_count": null,
   "metadata": {},
   "outputs": [],
   "source": []
  }
 ],
 "metadata": {
  "kernelspec": {
   "display_name": "Python 3",
   "language": "python",
   "name": "python3"
  },
  "language_info": {
   "codemirror_mode": {
    "name": "ipython",
    "version": 3
   },
   "file_extension": ".py",
   "mimetype": "text/x-python",
   "name": "python",
   "nbconvert_exporter": "python",
   "pygments_lexer": "ipython3",
   "version": "3.7.5"
  }
 },
 "nbformat": 4,
 "nbformat_minor": 2
}
