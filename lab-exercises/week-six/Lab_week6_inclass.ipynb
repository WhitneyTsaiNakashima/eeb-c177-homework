{
 "cells": [
  {
   "cell_type": "markdown",
   "metadata": {},
   "source": [
    "# Lab Week 6\n",
    "In class work\\\n",
    "Whitney Tsai Nakashima\\\n",
    "February 10, 2020\n",
    "\n",
    "## Functions\n",
    "```\n",
    "def fahr_to_celsius(temp):\n",
    "    return ((temp - 32) * (5/9))\n",
    "```\n",
    "Helpful when you are copying and pasting lines of code again and again."
   ]
  },
  {
   "cell_type": "code",
   "execution_count": 1,
   "metadata": {},
   "outputs": [],
   "source": [
    "def fahr_to_celsius(temp):\n",
    "    return ((temp - 32) * (5/9))"
   ]
  },
  {
   "cell_type": "code",
   "execution_count": 2,
   "metadata": {},
   "outputs": [
    {
     "data": {
      "text/plain": [
       "-14.444444444444445"
      ]
     },
     "execution_count": 2,
     "metadata": {},
     "output_type": "execute_result"
    }
   ],
   "source": [
    "fahr_to_celsius(6)"
   ]
  },
  {
   "cell_type": "code",
   "execution_count": 3,
   "metadata": {},
   "outputs": [
    {
     "name": "stdout",
     "output_type": "stream",
     "text": [
      "-14.444444444444445\n"
     ]
    }
   ],
   "source": [
    "cel = fahr_to_celsius(6)\n",
    "print(cel)"
   ]
  },
  {
   "cell_type": "code",
   "execution_count": 4,
   "metadata": {},
   "outputs": [
    {
     "name": "stdout",
     "output_type": "stream",
     "text": [
      "Freezing point of water: 0.0 C\n",
      "Boiling point of water: 100.0 C\n"
     ]
    }
   ],
   "source": [
    "print('Freezing point of water:', fahr_to_celsius(32), 'C')\n",
    "print('Boiling point of water:', fahr_to_celsius(212), 'C')"
   ]
  },
  {
   "cell_type": "code",
   "execution_count": 5,
   "metadata": {},
   "outputs": [],
   "source": [
    "def celsius_to_kelvin(temp_c):\n",
    "    return (temp_c + 273.15)"
   ]
  },
  {
   "cell_type": "code",
   "execution_count": 6,
   "metadata": {},
   "outputs": [
    {
     "name": "stdout",
     "output_type": "stream",
     "text": [
      "Freezing point of water in Kelvin: 273.15\n"
     ]
    }
   ],
   "source": [
    "print('Freezing point of water in Kelvin:', celsius_to_kelvin(0.))"
   ]
  },
  {
   "cell_type": "code",
   "execution_count": 9,
   "metadata": {},
   "outputs": [],
   "source": [
    "def fahr_to_kelvin(temp_f):\n",
    "    temp_c = fahr_to_celsius(temp_f)\n",
    "    temp_k = celsius_to_kelvin(temp_c)\n",
    "    return temp_k\n",
    "# can use functions to make a new function\n",
    "# think about modularity\n",
    "# make functions for basic code that can be utilized later\n",
    "# this can make things easier"
   ]
  },
  {
   "cell_type": "code",
   "execution_count": 10,
   "metadata": {},
   "outputs": [
    {
     "name": "stdout",
     "output_type": "stream",
     "text": [
      "Boiling point of water in Kelvin: 373.15\n"
     ]
    }
   ],
   "source": [
    "print('Boiling point of water in Kelvin:', fahr_to_kelvin(212.0))"
   ]
  },
  {
   "cell_type": "code",
   "execution_count": null,
   "metadata": {},
   "outputs": [],
   "source": [
    "def visualize(filename, delim):\n",
    "    # goal: create a function that will do the following steps:\n",
    "    #1) read in the data file\n",
    "    data = numpy.loadtxt(fname=filename, delimiter=delim)\n",
    "    #2) create our 3 subplot holders\n",
    "    #3) plot each of them\n",
    "    #4) show the plot\n",
    "    "
   ]
  }
 ],
 "metadata": {
  "kernelspec": {
   "display_name": "Python 3",
   "language": "python",
   "name": "python3"
  },
  "language_info": {
   "codemirror_mode": {
    "name": "ipython",
    "version": 3
   },
   "file_extension": ".py",
   "mimetype": "text/x-python",
   "name": "python",
   "nbconvert_exporter": "python",
   "pygments_lexer": "ipython3",
   "version": "3.7.5"
  }
 },
 "nbformat": 4,
 "nbformat_minor": 2
}
